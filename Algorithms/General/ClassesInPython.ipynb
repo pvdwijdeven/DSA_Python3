{
 "cells": [
  {
   "cell_type": "markdown",
   "metadata": {},
   "source": [
    "# Creating Classes the Pythonic Way\n",
    "\n",
    "While it's possible to get by with python using only functions, built-in types and types from installed libraries, a more advanced programmer will want to encapsulate their data into their own types, with their own functionalities and constraints, which means making use of user-defined classes. And while it's actually easy to define classes, doing it the Pythonic way isn't always as clear, especially since the documentation for class definition can be hard to read for a newbie. This small notebook aims at explaining the main concepts surrounding classes in Python, and how they differ from how classes are done in other languages (looking at you Java!)."
   ]
  },
  {
   "cell_type": "markdown",
   "metadata": {},
   "source": [
    "## What are classes?\n",
    "\n",
    "In Python, \"everything is an object\", as they say. An object is basically a structure that bundles data as well as functionality that can be applied to that data (i.e. _methods_, which are called using the syntax `object.method(other_arguments)`). And making that claim is simply saying that everything that can be manipulated in Python, even built-ins like `int`, `float` and `str`, are objects."
   ]
  },
  {
   "cell_type": "code",
   "execution_count": 1,
   "metadata": {},
   "outputs": [
    {
     "data": {
      "text/plain": [
       "True"
      ]
     },
     "execution_count": 1,
     "metadata": {},
     "output_type": "execute_result"
    }
   ],
   "source": [
    "(1.0).is_integer()"
   ]
  },
  {
   "cell_type": "code",
   "execution_count": 2,
   "metadata": {},
   "outputs": [
    {
     "data": {
      "text/plain": [
       "'This is a string'"
      ]
     },
     "execution_count": 2,
     "metadata": {},
     "output_type": "execute_result"
    }
   ],
   "source": [
    "\"this is a string\".capitalize()"
   ]
  },
  {
   "cell_type": "code",
   "execution_count": 3,
   "metadata": {},
   "outputs": [
    {
     "data": {
      "text/plain": [
       "2"
      ]
     },
     "execution_count": 3,
     "metadata": {},
     "output_type": "execute_result"
    }
   ],
   "source": [
    "[1, 3, 2].index(2)"
   ]
  },
  {
   "cell_type": "markdown",
   "metadata": {},
   "source": [
    "So what is a class and how do classes and objects work together? Basically, a class is two things:\n",
    "\n",
    "- An object's _type_, i.e. what you get if you run `type(object)`;\n",
    "- An object's _blueprint_, i.e. a declaration of the data and methods an object contains.\n",
    "\n",
    "This means that in order to create new _types_ of objects in Python, you need to create new _classes_, i.e. create the blueprint that describes the new object type, which you can then use to _instantiate_ objects. The promise of Python's \"everything is an object\" claim is that doing so, you can create objects that function seamlessly within Python, as if they were built-in objects."
   ]
  },
  {
   "cell_type": "markdown",
   "metadata": {},
   "source": [
    "## How to create a class?\n",
    "\n",
    "Creating a class in Python is as easy as:"
   ]
  },
  {
   "cell_type": "code",
   "execution_count": 4,
   "metadata": {},
   "outputs": [
    {
     "name": "stdout",
     "output_type": "stream",
     "text": [
      "<__main__.PrettyUseless object at 0x000001D2949330D0> <__main__.PrettyUseless object at 0x000001D294932710>\n"
     ]
    }
   ],
   "source": [
    "# Empty class example\n",
    "class PrettyUseless:\n",
    "    pass\n",
    "\n",
    "pretty_useless_object1 = PrettyUseless()\n",
    "pretty_useless_object2 = PrettyUseless()\n",
    "print(pretty_useless_object1, pretty_useless_object2)"
   ]
  },
  {
   "cell_type": "markdown",
   "metadata": {},
   "source": [
    "You cannot do much with such empty classes, except compare them via `is` and `is not`:"
   ]
  },
  {
   "cell_type": "code",
   "execution_count": 5,
   "metadata": {},
   "outputs": [
    {
     "data": {
      "text/plain": [
       "False"
      ]
     },
     "execution_count": 5,
     "metadata": {},
     "output_type": "execute_result"
    }
   ],
   "source": [
    "pretty_useless_object1 is pretty_useless_object2"
   ]
  },
  {
   "cell_type": "code",
   "execution_count": 6,
   "metadata": {},
   "outputs": [
    {
     "data": {
      "text/plain": [
       "True"
      ]
     },
     "execution_count": 6,
     "metadata": {},
     "output_type": "execute_result"
    }
   ],
   "source": [
    "pretty_useless_object3 = pretty_useless_object1\n",
    "pretty_useless_object1 is pretty_useless_object3"
   ]
  },
  {
   "cell_type": "markdown",
   "metadata": {},
   "source": [
    "User-defined classes are always instantiated using the `object = Class()` syntax. This is actually not that different from built-in classes (you can do `int()`, `list()` and `str()` for instance. Those have other ways to instantiate them for historical and practical reasons). By convention, user-defined class names must start with a capital letter. That built-in class names don't is purely a historical accident.\n",
    "\n",
    "In order to create useful objects, you need to add to your class _attributes_ and _methods_. Attributes are the data contained in your object, and can be of any type (including user-defined classes, even the very class you're creating!). Methods are the functions that work on that data."
   ]
  },
  {
   "cell_type": "code",
   "execution_count": 7,
   "metadata": {},
   "outputs": [],
   "source": [
    "class FancyList:\n",
    "    \"\"\"A simple list with a name.\"\"\"\n",
    "    def __init__(self, name: str, contents: list) -> None:\n",
    "        self.name = name\n",
    "        self.contents = contents\n",
    "\n",
    "    def append(self, added) -> None:\n",
    "        self.contents.append(added)"
   ]
  },
  {
   "cell_type": "code",
   "execution_count": 8,
   "metadata": {},
   "outputs": [
    {
     "name": "stdout",
     "output_type": "stream",
     "text": [
      "Simple Title [1, 2, 3]\n",
      "Slightly Less Simple Title [1, 2, 3, 4]\n"
     ]
    }
   ],
   "source": [
    "fancy_list = FancyList(\"Simple Title\", [1, 2, 3])\n",
    "print(fancy_list.name, fancy_list.contents)\n",
    "\n",
    "fancy_list.append(4)\n",
    "fancy_list.name = \"Slightly Less Simple Title\"\n",
    "print(fancy_list.name, fancy_list.contents)"
   ]
  },
  {
   "cell_type": "markdown",
   "metadata": {},
   "source": [
    "As you can see, attributes are defined with the `self.attribute` syntax _within a method_ of the defined class, and can be accessed using the `object.attribute` syntax (and can be modified using the `object.attribute = something` syntax), while methods are defined with the `def method(self, other_arguments):` syntax, and are accessed using the `object.method(other_arguments)` syntax.\n",
    "\n",
    "In the class definition, `self` is just a representation of the instantiated object, and the naming convention is customary but optional (although if you want to be understood by other programmers I urge you to stick to the convention!). Its presence as the first argument of methods is mandatory, though.\n",
    "\n",
    "Also, note the `__init__()` method. It's a special method that makes it possible to pass arguments to the object instantiation syntax `obj = Class(arguments)`, and it's used to initialise instantiated objects with the data passed to it. We'll get back to it later."
   ]
  },
  {
   "cell_type": "markdown",
   "metadata": {},
   "source": [
    "## Properties and encapsulation\n",
    "\n",
    "While you may be happy with creating classes with just plain attributes and methods, one issue with this is that your attributes are fully read-write to anyone using your class. This means they can go about and change them however they want, including putting data in them that can break your class's functionality."
   ]
  },
  {
   "cell_type": "code",
   "execution_count": 9,
   "metadata": {},
   "outputs": [
    {
     "ename": "AttributeError",
     "evalue": "'float' object has no attribute 'append'",
     "output_type": "error",
     "traceback": [
      "\u001b[1;31m---------------------------------------------------------------------------\u001b[0m",
      "\u001b[1;31mAttributeError\u001b[0m                            Traceback (most recent call last)",
      "Cell \u001b[1;32mIn[9], line 3\u001b[0m\n\u001b[0;32m      1\u001b[0m \u001b[38;5;66;03m# Let's break FancyList\u001b[39;00m\n\u001b[0;32m      2\u001b[0m fancy_list\u001b[38;5;241m.\u001b[39mcontents \u001b[38;5;241m=\u001b[39m \u001b[38;5;241m1.5\u001b[39m\n\u001b[1;32m----> 3\u001b[0m fancy_list\u001b[38;5;241m.\u001b[39mappend(\u001b[38;5;241m5\u001b[39m)\n",
      "Cell \u001b[1;32mIn[7], line 8\u001b[0m, in \u001b[0;36mFancyList.append\u001b[1;34m(self, added)\u001b[0m\n\u001b[0;32m      7\u001b[0m \u001b[38;5;28;01mdef\u001b[39;00m \u001b[38;5;21mappend\u001b[39m(\u001b[38;5;28mself\u001b[39m, added) \u001b[38;5;241m-\u001b[39m\u001b[38;5;241m>\u001b[39m \u001b[38;5;28;01mNone\u001b[39;00m:\n\u001b[1;32m----> 8\u001b[0m     \u001b[38;5;28mself\u001b[39m\u001b[38;5;241m.\u001b[39mcontents\u001b[38;5;241m.\u001b[39mappend(added)\n",
      "\u001b[1;31mAttributeError\u001b[0m: 'float' object has no attribute 'append'"
     ]
    }
   ],
   "source": [
    "# Let's break FancyList\n",
    "fancy_list.contents = 1.5\n",
    "fancy_list.append(5) # Oops"
   ]
  },
  {
   "cell_type": "markdown",
   "metadata": {},
   "source": [
    "The problem with classes in Python is that they are by default wide open, i.e. all attributes can be overwritten by the user of your class, even if it breaks your class's functionality. This can be a big problem, especially if your class is supposed to ensure that its contained data follows some specific rules (usually called _invariants_). In our case for instance, that means ensuring that `contents` is always a list, but it could be anything.\n",
    "\n",
    "You could, for instance, want a fancy list that can only contain positive numbers, and will stop you from instantiating it with negative numbers, or from appending negative numbers to it."
   ]
  },
  {
   "cell_type": "code",
   "execution_count": 10,
   "metadata": {},
   "outputs": [],
   "source": [
    "class FancyList:\n",
    "    \"\"\"A simple list with a name that only accepts positive numbers.\"\"\"\n",
    "    def __init__(self, name: str, contents: list[int | float]) -> None:\n",
    "        self.name = name\n",
    "        if any(el < 0 for el in contents):\n",
    "            raise ValueError(\"No negative numbers allowed\")\n",
    "        self.contents = contents\n",
    "\n",
    "    def append(self, added) -> None:\n",
    "        if isinstance(added, list) and any(el < 0 for el in added):\n",
    "            raise ValueError(\"No negative numbers allowed\")\n",
    "        if isinstance(added, (int, float)) and added < 0:\n",
    "            raise ValueError(\"No negative numbers allowed\")\n",
    "        self.contents.append(added)"
   ]
  },
  {
   "cell_type": "code",
   "execution_count": 11,
   "metadata": {},
   "outputs": [
    {
     "ename": "ValueError",
     "evalue": "No negative numbers allowed",
     "output_type": "error",
     "traceback": [
      "\u001b[1;31m---------------------------------------------------------------------------\u001b[0m",
      "\u001b[1;31mValueError\u001b[0m                                Traceback (most recent call last)",
      "Cell \u001b[1;32mIn[11], line 1\u001b[0m\n\u001b[1;32m----> 1\u001b[0m fancy_list \u001b[38;5;241m=\u001b[39m FancyList(\u001b[38;5;124m\"\u001b[39m\u001b[38;5;124mWon\u001b[39m\u001b[38;5;124m'\u001b[39m\u001b[38;5;124mt work\u001b[39m\u001b[38;5;124m\"\u001b[39m, [\u001b[38;5;241m1\u001b[39m, \u001b[38;5;241m2\u001b[39m, \u001b[38;5;241m-\u001b[39m\u001b[38;5;241m3\u001b[39m])\n",
      "Cell \u001b[1;32mIn[10], line 6\u001b[0m, in \u001b[0;36mFancyList.__init__\u001b[1;34m(self, name, contents)\u001b[0m\n\u001b[0;32m      4\u001b[0m \u001b[38;5;28mself\u001b[39m\u001b[38;5;241m.\u001b[39mname \u001b[38;5;241m=\u001b[39m name\n\u001b[0;32m      5\u001b[0m \u001b[38;5;28;01mif\u001b[39;00m \u001b[38;5;28many\u001b[39m(el \u001b[38;5;241m<\u001b[39m \u001b[38;5;241m0\u001b[39m \u001b[38;5;28;01mfor\u001b[39;00m el \u001b[38;5;129;01min\u001b[39;00m contents):\n\u001b[1;32m----> 6\u001b[0m     \u001b[38;5;28;01mraise\u001b[39;00m \u001b[38;5;167;01mValueError\u001b[39;00m(\u001b[38;5;124m\"\u001b[39m\u001b[38;5;124mNo negative numbers allowed\u001b[39m\u001b[38;5;124m\"\u001b[39m)\n\u001b[0;32m      7\u001b[0m \u001b[38;5;28mself\u001b[39m\u001b[38;5;241m.\u001b[39mcontents \u001b[38;5;241m=\u001b[39m contents\n",
      "\u001b[1;31mValueError\u001b[0m: No negative numbers allowed"
     ]
    }
   ],
   "source": [
    "fancy_list = FancyList(\"Won't work\", [1, 2, -3])"
   ]
  },
  {
   "cell_type": "code",
   "execution_count": 12,
   "metadata": {},
   "outputs": [
    {
     "name": "stdout",
     "output_type": "stream",
     "text": [
      "Will work [1, 2, 3]\n"
     ]
    },
    {
     "ename": "ValueError",
     "evalue": "No negative numbers allowed",
     "output_type": "error",
     "traceback": [
      "\u001b[1;31m---------------------------------------------------------------------------\u001b[0m",
      "\u001b[1;31mValueError\u001b[0m                                Traceback (most recent call last)",
      "Cell \u001b[1;32mIn[12], line 3\u001b[0m\n\u001b[0;32m      1\u001b[0m fancy_list \u001b[38;5;241m=\u001b[39m FancyList(\u001b[38;5;124m\"\u001b[39m\u001b[38;5;124mWill work\u001b[39m\u001b[38;5;124m\"\u001b[39m, [\u001b[38;5;241m1\u001b[39m, \u001b[38;5;241m2\u001b[39m, \u001b[38;5;241m3\u001b[39m])\n\u001b[0;32m      2\u001b[0m \u001b[38;5;28mprint\u001b[39m(fancy_list\u001b[38;5;241m.\u001b[39mname, fancy_list\u001b[38;5;241m.\u001b[39mcontents)\n\u001b[1;32m----> 3\u001b[0m fancy_list\u001b[38;5;241m.\u001b[39mappend(\u001b[38;5;241m-\u001b[39m\u001b[38;5;241m5\u001b[39m)\n",
      "Cell \u001b[1;32mIn[10], line 13\u001b[0m, in \u001b[0;36mFancyList.append\u001b[1;34m(self, added)\u001b[0m\n\u001b[0;32m     11\u001b[0m     \u001b[38;5;28;01mraise\u001b[39;00m \u001b[38;5;167;01mValueError\u001b[39;00m(\u001b[38;5;124m\"\u001b[39m\u001b[38;5;124mNo negative numbers allowed\u001b[39m\u001b[38;5;124m\"\u001b[39m)\n\u001b[0;32m     12\u001b[0m \u001b[38;5;28;01mif\u001b[39;00m \u001b[38;5;28misinstance\u001b[39m(added, (\u001b[38;5;28mint\u001b[39m, \u001b[38;5;28mfloat\u001b[39m)) \u001b[38;5;129;01mand\u001b[39;00m added \u001b[38;5;241m<\u001b[39m \u001b[38;5;241m0\u001b[39m:\n\u001b[1;32m---> 13\u001b[0m     \u001b[38;5;28;01mraise\u001b[39;00m \u001b[38;5;167;01mValueError\u001b[39;00m(\u001b[38;5;124m\"\u001b[39m\u001b[38;5;124mNo negative numbers allowed\u001b[39m\u001b[38;5;124m\"\u001b[39m)\n\u001b[0;32m     14\u001b[0m \u001b[38;5;28mself\u001b[39m\u001b[38;5;241m.\u001b[39mcontents\u001b[38;5;241m.\u001b[39mappend(added)\n",
      "\u001b[1;31mValueError\u001b[0m: No negative numbers allowed"
     ]
    }
   ],
   "source": [
    "fancy_list = FancyList(\"Will work\", [1, 2, 3])\n",
    "print(fancy_list.name, fancy_list.contents)\n",
    "fancy_list.append(-5) # won't work"
   ]
  },
  {
   "cell_type": "markdown",
   "metadata": {},
   "source": [
    "But nobody can stop a user from doing:"
   ]
  },
  {
   "cell_type": "code",
   "execution_count": 13,
   "metadata": {},
   "outputs": [
    {
     "name": "stdout",
     "output_type": "stream",
     "text": [
      "Will work [-1, -2, -3]\n"
     ]
    }
   ],
   "source": [
    "fancy_list.contents = [-1, -2, -3]\n",
    "print(fancy_list.name, fancy_list.contents)"
   ]
  },
  {
   "cell_type": "markdown",
   "metadata": {},
   "source": [
    "Your class cannot make any guarantee about its data as long as attributes can be overwritten at will.\n",
    "\n",
    "The solution is called encapsulation, i.e. making object-internal data unreachable by outside users, and only give access through methods. This way, the class programmer has full control over what the users of a class can or cannot do.\n",
    "\n",
    "Here's a naive implementation of encapsulation to solve the problem of disallowing negative numbers in your fancy list:"
   ]
  },
  {
   "cell_type": "code",
   "execution_count": 15,
   "metadata": {},
   "outputs": [],
   "source": [
    "class FancyList:\n",
    "    \"\"\"A simple list with a name that only accepts positive numbers.\"\"\"\n",
    "    def __init__(self, name: str, contents: list[int | float]) -> None:\n",
    "        self.__name = name\n",
    "        if any(el < 0 for el in contents):\n",
    "            raise ValueError(\"No negative numbers allowed\")\n",
    "        self.__contents = contents\n",
    "\n",
    "    def get_name(self) -> str:\n",
    "        return self.__name\n",
    "\n",
    "    def get_contents(self) -> list[int | float]:\n",
    "        return self.__contents\n",
    "    \n",
    "    def set_contents(self, contents: list[int | float]) -> None:\n",
    "        if any(el < 0 for el in contents):\n",
    "            raise ValueError(\"No negative numbers allowed\")\n",
    "        self.__contents = contents\n",
    "\n",
    "    def append(self, added) -> None:\n",
    "        if isinstance(added, list) and any(el < 0 for el in added):\n",
    "            raise ValueError(\"No negative numbers allowed\")\n",
    "        if isinstance(added, (int, float)) and added < 0:\n",
    "            raise ValueError(\"No negative numbers allowed\")\n",
    "        self.__contents.append(added)"
   ]
  },
  {
   "cell_type": "code",
   "execution_count": 16,
   "metadata": {},
   "outputs": [
    {
     "name": "stdout",
     "output_type": "stream",
     "text": [
      "Will work [1, 2, 3]\n"
     ]
    },
    {
     "ename": "ValueError",
     "evalue": "No negative numbers allowed",
     "output_type": "error",
     "traceback": [
      "\u001b[1;31m---------------------------------------------------------------------------\u001b[0m",
      "\u001b[1;31mValueError\u001b[0m                                Traceback (most recent call last)",
      "Cell \u001b[1;32mIn[16], line 3\u001b[0m\n\u001b[0;32m      1\u001b[0m fancy_list \u001b[38;5;241m=\u001b[39m FancyList(\u001b[38;5;124m\"\u001b[39m\u001b[38;5;124mWill work\u001b[39m\u001b[38;5;124m\"\u001b[39m, [\u001b[38;5;241m1\u001b[39m, \u001b[38;5;241m2\u001b[39m, \u001b[38;5;241m3\u001b[39m])\n\u001b[0;32m      2\u001b[0m \u001b[38;5;28mprint\u001b[39m(fancy_list\u001b[38;5;241m.\u001b[39mget_name(), fancy_list\u001b[38;5;241m.\u001b[39mget_contents())\n\u001b[1;32m----> 3\u001b[0m fancy_list\u001b[38;5;241m.\u001b[39mset_contents([\u001b[38;5;241m-\u001b[39m\u001b[38;5;241m1\u001b[39m, \u001b[38;5;241m-\u001b[39m\u001b[38;5;241m2\u001b[39m, \u001b[38;5;241m-\u001b[39m\u001b[38;5;241m3\u001b[39m])\n",
      "Cell \u001b[1;32mIn[15], line 17\u001b[0m, in \u001b[0;36mFancyList.set_contents\u001b[1;34m(self, contents)\u001b[0m\n\u001b[0;32m     15\u001b[0m \u001b[38;5;28;01mdef\u001b[39;00m \u001b[38;5;21mset_contents\u001b[39m(\u001b[38;5;28mself\u001b[39m, contents: \u001b[38;5;28mlist\u001b[39m[\u001b[38;5;28mint\u001b[39m \u001b[38;5;241m|\u001b[39m \u001b[38;5;28mfloat\u001b[39m]) \u001b[38;5;241m-\u001b[39m\u001b[38;5;241m>\u001b[39m \u001b[38;5;28;01mNone\u001b[39;00m:\n\u001b[0;32m     16\u001b[0m     \u001b[38;5;28;01mif\u001b[39;00m \u001b[38;5;28many\u001b[39m(el \u001b[38;5;241m<\u001b[39m \u001b[38;5;241m0\u001b[39m \u001b[38;5;28;01mfor\u001b[39;00m el \u001b[38;5;129;01min\u001b[39;00m contents):\n\u001b[1;32m---> 17\u001b[0m         \u001b[38;5;28;01mraise\u001b[39;00m \u001b[38;5;167;01mValueError\u001b[39;00m(\u001b[38;5;124m\"\u001b[39m\u001b[38;5;124mNo negative numbers allowed\u001b[39m\u001b[38;5;124m\"\u001b[39m)\n\u001b[0;32m     18\u001b[0m     \u001b[38;5;28mself\u001b[39m\u001b[38;5;241m.\u001b[39m__contents \u001b[38;5;241m=\u001b[39m contents\n",
      "\u001b[1;31mValueError\u001b[0m: No negative numbers allowed"
     ]
    }
   ],
   "source": [
    "fancy_list = FancyList(\"Will work\", [1, 2, 3])\n",
    "print(fancy_list.get_name(), fancy_list.get_contents())\n",
    "fancy_list.set_contents([-1, -2, -3]) # won't work"
   ]
  },
  {
   "cell_type": "code",
   "execution_count": null,
   "metadata": {},
   "outputs": [],
   "source": [
    "fancy_list.__name # Won't work either"
   ]
  },
  {
   "cell_type": "markdown",
   "metadata": {},
   "source": [
    "There are two things to notice here:\n",
    "\n",
    "1. A double underscore was added to the attributes. The double underscore is Python's way of creating _private attributes_, i.e. attributes that cannot be accessed from outside the class definition. They are not _truly_ private (there is a way to get to them if you really want to), but they are the best Python has to offer to encapsulate data;\n",
    "2. Attributes are instead accessed using an `object.get_attribute()` method, and set to a different value with an `object.set_attribute(new_value)` method, which can do whatever invariant testing it needs before actually overwriting the attribute.\n",
    "\n",
    "Note also that by creating a `get_name()` method but no `set_name()` method, we've effectively turned the `name` attribute of `FancyList` _read-only_, a pattern that is very useful for object data that you want to prevent from being overwritten wholesale (you can still modify it via another method if need be).\n",
    "\n",
    "Now, while it works, there's a big problem with this pattern: the `get_*()` and `set_*()` methods are very un-Python-like. They look like something right out of Java, and look very out of place, especially when built-in Python types and other libraries make liberal use of the attribute syntax. What we actually want is to be able to use plain attribute syntax, but with the control granted by getter and setter methods. It turns out that we can do just that, using the `@property` decorator. Using it to rewrite the `FancyList` class, we get the following:"
   ]
  },
  {
   "cell_type": "code",
   "execution_count": 17,
   "metadata": {},
   "outputs": [],
   "source": [
    "class FancyList:\n",
    "    \"\"\"A simple list with a name that only accepts positive numbers.\"\"\"\n",
    "    def __init__(self, name: str, contents: list[int | float]) -> None:\n",
    "        self.__name = name\n",
    "        if any(el < 0 for el in contents):\n",
    "            raise ValueError(\"No negative numbers allowed\")\n",
    "        self.__contents = contents\n",
    "\n",
    "    @property\n",
    "    def name(self) -> str:\n",
    "        return self.__name\n",
    "\n",
    "    @property\n",
    "    def contents(self) -> list[int | float]:\n",
    "        return self.__contents\n",
    "    \n",
    "    @contents.setter\n",
    "    def contents(self, contents: list[int | float]) -> None:\n",
    "        if any(el < 0 for el in contents):\n",
    "            raise ValueError(\"No negative numbers allowed\")\n",
    "        self.__contents = contents\n",
    "\n",
    "    def append(self, added) -> None:\n",
    "        if isinstance(added, list) and any(el < 0 for el in added):\n",
    "            raise ValueError(\"No negative numbers allowed\")\n",
    "        if isinstance(added, (int, float)) and added < 0:\n",
    "            raise ValueError(\"No negative numbers allowed\")\n",
    "        self.__contents.append(added)"
   ]
  },
  {
   "cell_type": "code",
   "execution_count": 18,
   "metadata": {},
   "outputs": [
    {
     "name": "stdout",
     "output_type": "stream",
     "text": [
      "Will work [1, 2, 3]\n",
      "Will work [4, 5, 6]\n"
     ]
    },
    {
     "ename": "ValueError",
     "evalue": "No negative numbers allowed",
     "output_type": "error",
     "traceback": [
      "\u001b[1;31m---------------------------------------------------------------------------\u001b[0m",
      "\u001b[1;31mValueError\u001b[0m                                Traceback (most recent call last)",
      "Cell \u001b[1;32mIn[18], line 5\u001b[0m\n\u001b[0;32m      3\u001b[0m fancy_list\u001b[38;5;241m.\u001b[39mcontents \u001b[38;5;241m=\u001b[39m [\u001b[38;5;241m4\u001b[39m, \u001b[38;5;241m5\u001b[39m, \u001b[38;5;241m6\u001b[39m] \u001b[38;5;66;03m# will work\u001b[39;00m\n\u001b[0;32m      4\u001b[0m \u001b[38;5;28mprint\u001b[39m(fancy_list\u001b[38;5;241m.\u001b[39mname, fancy_list\u001b[38;5;241m.\u001b[39mcontents)\n\u001b[1;32m----> 5\u001b[0m fancy_list\u001b[38;5;241m.\u001b[39mcontents \u001b[38;5;241m=\u001b[39m [\u001b[38;5;241m-\u001b[39m\u001b[38;5;241m1\u001b[39m, \u001b[38;5;241m-\u001b[39m\u001b[38;5;241m2\u001b[39m, \u001b[38;5;241m-\u001b[39m\u001b[38;5;241m3\u001b[39m]\n",
      "Cell \u001b[1;32mIn[17], line 20\u001b[0m, in \u001b[0;36mFancyList.contents\u001b[1;34m(self, contents)\u001b[0m\n\u001b[0;32m     17\u001b[0m \u001b[38;5;129m@contents\u001b[39m\u001b[38;5;241m.\u001b[39msetter\n\u001b[0;32m     18\u001b[0m \u001b[38;5;28;01mdef\u001b[39;00m \u001b[38;5;21mcontents\u001b[39m(\u001b[38;5;28mself\u001b[39m, contents: \u001b[38;5;28mlist\u001b[39m[\u001b[38;5;28mint\u001b[39m \u001b[38;5;241m|\u001b[39m \u001b[38;5;28mfloat\u001b[39m]) \u001b[38;5;241m-\u001b[39m\u001b[38;5;241m>\u001b[39m \u001b[38;5;28;01mNone\u001b[39;00m:\n\u001b[0;32m     19\u001b[0m     \u001b[38;5;28;01mif\u001b[39;00m \u001b[38;5;28many\u001b[39m(el \u001b[38;5;241m<\u001b[39m \u001b[38;5;241m0\u001b[39m \u001b[38;5;28;01mfor\u001b[39;00m el \u001b[38;5;129;01min\u001b[39;00m contents):\n\u001b[1;32m---> 20\u001b[0m         \u001b[38;5;28;01mraise\u001b[39;00m \u001b[38;5;167;01mValueError\u001b[39;00m(\u001b[38;5;124m\"\u001b[39m\u001b[38;5;124mNo negative numbers allowed\u001b[39m\u001b[38;5;124m\"\u001b[39m)\n\u001b[0;32m     21\u001b[0m     \u001b[38;5;28mself\u001b[39m\u001b[38;5;241m.\u001b[39m__contents \u001b[38;5;241m=\u001b[39m contents\n",
      "\u001b[1;31mValueError\u001b[0m: No negative numbers allowed"
     ]
    }
   ],
   "source": [
    "fancy_list = FancyList(\"Will work\", [1, 2, 3])\n",
    "print(fancy_list.name, fancy_list.contents)\n",
    "fancy_list.contents = [4, 5, 6] # will work\n",
    "print(fancy_list.name, fancy_list.contents)\n",
    "fancy_list.contents = [-1, -2, -3] # won't work"
   ]
  },
  {
   "cell_type": "code",
   "execution_count": 19,
   "metadata": {},
   "outputs": [
    {
     "ename": "AttributeError",
     "evalue": "property 'name' of 'FancyList' object has no setter",
     "output_type": "error",
     "traceback": [
      "\u001b[1;31m---------------------------------------------------------------------------\u001b[0m",
      "\u001b[1;31mAttributeError\u001b[0m                            Traceback (most recent call last)",
      "Cell \u001b[1;32mIn[19], line 1\u001b[0m\n\u001b[1;32m----> 1\u001b[0m fancy_list\u001b[38;5;241m.\u001b[39mname \u001b[38;5;241m=\u001b[39m \u001b[38;5;124m\"\u001b[39m\u001b[38;5;124mWon\u001b[39m\u001b[38;5;124m'\u001b[39m\u001b[38;5;124mt work\u001b[39m\u001b[38;5;124m\"\u001b[39m\n",
      "\u001b[1;31mAttributeError\u001b[0m: property 'name' of 'FancyList' object has no setter"
     ]
    }
   ],
   "source": [
    "fancy_list.name = \"Won't work\""
   ]
  },
  {
   "cell_type": "markdown",
   "metadata": {},
   "source": [
    "As you can see, using the `@property` decorator, you can create _getter_ methods, which although called using attribute syntax are actually methods under the hood. And once you have a property defined, you can create the corresponding _setter_ method by using a decorator of the form `@attribute.setter`, and defining the setter method using the same function name as the getter method. This setter method, while also called using attribute syntax, is a method under the hood and can thus do whatever the class programmer wants.\n",
    "\n",
    "Properties are very powerful. They allow you to create getter and setter methods even for things that do not have an underlying attribute in the class!"
   ]
  },
  {
   "cell_type": "markdown",
   "metadata": {},
   "source": [
    "## Dunder methods, also called \"magic\" methods\n",
    "\n",
    "While properties get you quite a long way into making user-defined classes indistinguishable from built-in classes, we're still a long way from the promise of seamless function. For instance, in the case of our fancy list class, we still need to access the `contents` attribute if we want to do pretty much any operation on the underlying list. But really, we want our fancy list to be a drop-in replacement of plain lists, with full symmetry between the two.\n",
    "\n",
    "To do that, we can keep on doing what we've been doing by defining the `append()` method: define the corresponding list methods in our fancy list class, and _delegate_ the actual execution of the method to the underlying list. For instance, since lists can be sorted in place using the `sort()` method, we want to be able to do the same with our fancy list. This can be done like this:"
   ]
  },
  {
   "cell_type": "code",
   "execution_count": 20,
   "metadata": {},
   "outputs": [],
   "source": [
    "class FancyList:\n",
    "    \"\"\"A simple list with a name.\"\"\"\n",
    "    def __init__(self, name: str, contents: list) -> None:\n",
    "        self.__name = name\n",
    "        self.__contents = contents\n",
    "\n",
    "    @property\n",
    "    def name(self) -> str:\n",
    "        return self.__name\n",
    "\n",
    "    @property\n",
    "    def contents(self) -> list:\n",
    "        return self.__contents\n",
    "    \n",
    "    @contents.setter\n",
    "    def contents(self, contents: list) -> None:\n",
    "        self.__contents = contents    \n",
    "\n",
    "    def append(self, added) -> None:\n",
    "        self.contents.append(added)\n",
    "\n",
    "    def sort(self, *args, **kwargs):\n",
    "        self.contents.sort(*args, **kwargs)"
   ]
  },
  {
   "cell_type": "code",
   "execution_count": 21,
   "metadata": {},
   "outputs": [
    {
     "name": "stdout",
     "output_type": "stream",
     "text": [
      "Unsorted [1, 3, 2]\n",
      "Unsorted [1, 2, 3]\n"
     ]
    }
   ],
   "source": [
    "fancy_list = FancyList(\"Unsorted\", [1, 3, 2])\n",
    "print(fancy_list.name, fancy_list.contents)\n",
    "fancy_list.sort()\n",
    "print(fancy_list.name, fancy_list.contents)"
   ]
  },
  {
   "cell_type": "markdown",
   "metadata": {},
   "source": [
    "The `*args, **kwargs` syntax is Python's way of saying: \"take all the not already named arguments given to that function, and pass them wholesale to that other function\", and is vital to that type of code delegation.\n",
    "\n",
    "Now, while you can do that with any _method_ from the `list` class, you soon hit a brick wall with one of the most common operations done on lists: getting their lengths. Because getting the length of a list in Python isn't done using a method, but using the _function_ `len()`, which is defined outside of the definition of `list` (and works with many other things besides lists).\n",
    "\n",
    "Since `len()` is a built-in function, its definition is set and you cannot redefine it for your fancy list class. Of course, you could define a `len()` _method_ for your class, but then you'd be stuck with having to write `object.len()` to get its length, while other types of lists would use `len(object)` instead. This would break the symmetry and promise of seamless function we've been striving for. Was it all in vain?\n",
    "\n",
    "Of course not, and Python provides a neat solution to this problem: the _dunder_ methods (also called _magic_ methods).\n",
    "\n",
    "Dunder methods are basically reserved method _names_ that, when defined in your class, allow it (via the power of _duck typing_) to make use of built-in Python functions, operators and syntax. They are called _dunder_ methods because their names always _start and end_ with a _d_ouble _under_score, and they are sometimes called _magic_ methods because they are never actually called by a user. Instead, they are defined by the class programmer, and this definition alone is enough for a seemingly unrelated bit of the Python language to suddenly work with instances of that class.\n",
    "\n",
    "In fact, you've already come across dunder methods: `__init__()` is one of them. Although you define it in order to be able to pass arguments to the instantiation syntax of the class, the user never actually calls `__init__()` itself. Rather, Python itself, when seeing the `object = Class(initial_arguments)`, will first create an empty instance of that class, and _then_ call the `__init__()` method of that object, if it exists, passing it the full `initial_arguments`. By defining `__init__()` for your class, you've made it able to use a bit of Python syntax it wouldn't have been able to use otherwise.\n",
    "\n",
    "What does this mean for our `len()` issue? Well, as it happens, in order to be able to use `len()`, the only thing a class needs is to implement the `__len__()` dunder method."
   ]
  },
  {
   "cell_type": "code",
   "execution_count": 22,
   "metadata": {},
   "outputs": [
    {
     "ename": "TypeError",
     "evalue": "object of type 'FancyList' has no len()",
     "output_type": "error",
     "traceback": [
      "\u001b[1;31m---------------------------------------------------------------------------\u001b[0m",
      "\u001b[1;31mTypeError\u001b[0m                                 Traceback (most recent call last)",
      "Cell \u001b[1;32mIn[22], line 1\u001b[0m\n\u001b[1;32m----> 1\u001b[0m \u001b[38;5;28mlen\u001b[39m(fancy_list)\n",
      "\u001b[1;31mTypeError\u001b[0m: object of type 'FancyList' has no len()"
     ]
    }
   ],
   "source": [
    "len(fancy_list)"
   ]
  },
  {
   "cell_type": "code",
   "execution_count": 23,
   "metadata": {},
   "outputs": [],
   "source": [
    "class FancyList:\n",
    "    \"\"\"A simple list with a name.\"\"\"\n",
    "    def __init__(self, name: str, contents: list) -> None:\n",
    "        self.__name = name\n",
    "        self.__contents = contents\n",
    "\n",
    "    @property\n",
    "    def name(self) -> str:\n",
    "        return self.__name\n",
    "\n",
    "    @property\n",
    "    def contents(self) -> list:\n",
    "        return self.__contents\n",
    "    \n",
    "    @contents.setter\n",
    "    def contents(self, contents: list) -> None:\n",
    "        self.__contents = contents    \n",
    "\n",
    "    def append(self, added) -> None:\n",
    "        self.contents.append(added)\n",
    "\n",
    "    def sort(self, *args, **kwargs):\n",
    "        self.contents.sort(*args, **kwargs)\n",
    "\n",
    "    def __len__(self) -> int:\n",
    "        return len(self.contents)"
   ]
  },
  {
   "cell_type": "code",
   "execution_count": 24,
   "metadata": {},
   "outputs": [
    {
     "data": {
      "text/plain": [
       "3"
      ]
     },
     "execution_count": 24,
     "metadata": {},
     "output_type": "execute_result"
    }
   ],
   "source": [
    "fancy_list = FancyList(\"Unsorted\", [1, 3, 2])\n",
    "len(fancy_list)"
   ]
  },
  {
   "cell_type": "markdown",
   "metadata": {},
   "source": [
    "But dunder methods are far more powerful than just giving access to built-in functions. There are in fact [plenty](https://mathspp.com/blog/pydonts/dunder-methods) of them, and they give you access to pretty much every part of the Python machinery.\n",
    "\n",
    "For instance, a built-in capacity of lists is to have their contents accessed via the bracket syntax. Well, as it turns out, in Python `object[key]` is just syntactic sugar for `object.__getitem__(key)`, and `object[key] = value` is really simply `object.__setitem__(key, value)`. So making your fancy list able to use the bracket syntax is as easy as:"
   ]
  },
  {
   "cell_type": "code",
   "execution_count": 25,
   "metadata": {},
   "outputs": [],
   "source": [
    "class FancyList:\n",
    "    \"\"\"A simple list with a name.\"\"\"\n",
    "    def __init__(self, name: str, contents: list) -> None:\n",
    "        self.__name = name\n",
    "        self.__contents = contents\n",
    "\n",
    "    @property\n",
    "    def name(self) -> str:\n",
    "        return self.__name\n",
    "\n",
    "    @property\n",
    "    def contents(self) -> list:\n",
    "        return self.__contents\n",
    "    \n",
    "    @contents.setter\n",
    "    def contents(self, contents: list) -> None:\n",
    "        self.__contents = contents    \n",
    "\n",
    "    def append(self, added) -> None:\n",
    "        self.contents.append(added)\n",
    "\n",
    "    def sort(self, *args, **kwargs):\n",
    "        self.contents.sort(*args, **kwargs)\n",
    "\n",
    "    def __len__(self) -> int:\n",
    "        return len(self.contents)\n",
    "    \n",
    "    def __getitem__(self, key):\n",
    "        return self.contents[key]\n",
    "    \n",
    "    def __setitem__(self, key, value) -> None:\n",
    "        self.contents[key] = value"
   ]
  },
  {
   "cell_type": "code",
   "execution_count": 26,
   "metadata": {},
   "outputs": [
    {
     "name": "stdout",
     "output_type": "stream",
     "text": [
      "3\n"
     ]
    },
    {
     "data": {
      "text/plain": [
       "[1, 2, 3, 4]"
      ]
     },
     "execution_count": 26,
     "metadata": {},
     "output_type": "execute_result"
    }
   ],
   "source": [
    "fancy_list = FancyList(\"Wow!\", [1, 3, 2])\n",
    "print(fancy_list[1])\n",
    "fancy_list[1:] = [2, 3, 4]\n",
    "fancy_list.contents"
   ]
  },
  {
   "cell_type": "markdown",
   "metadata": {},
   "source": [
    "Other things routinely done with lists are membership testing (`if value in object:`) and iteration (`for value in object:`). As it turns out, those are defined in terms of the dunder methods `__contains__()` and `__iter__()`, and so adding them to your fancy list class just requires defining them:"
   ]
  },
  {
   "cell_type": "code",
   "execution_count": 27,
   "metadata": {},
   "outputs": [],
   "source": [
    "class FancyList:\n",
    "    \"\"\"A simple list with a name.\"\"\"\n",
    "    def __init__(self, name: str, contents: list) -> None:\n",
    "        self.__name = name\n",
    "        self.__contents = contents\n",
    "\n",
    "    @property\n",
    "    def name(self) -> str:\n",
    "        return self.__name\n",
    "\n",
    "    @property\n",
    "    def contents(self) -> list:\n",
    "        return self.__contents\n",
    "    \n",
    "    @contents.setter\n",
    "    def contents(self, contents: list) -> None:\n",
    "        self.__contents = contents    \n",
    "\n",
    "    def append(self, added) -> None:\n",
    "        self.contents.append(added)\n",
    "\n",
    "    def sort(self, *args, **kwargs):\n",
    "        self.contents.sort(*args, **kwargs)\n",
    "\n",
    "    def __len__(self) -> int:\n",
    "        return len(self.contents)\n",
    "    \n",
    "    def __getitem__(self, key):\n",
    "        return self.contents[key]\n",
    "    \n",
    "    def __setitem__(self, key, value) -> None:\n",
    "        self.contents[key] = value\n",
    "\n",
    "    def __contains__(self, item) -> bool:\n",
    "        return item in self.contents\n",
    "    \n",
    "    def __iter__(self):\n",
    "        return iter(self.contents)"
   ]
  },
  {
   "cell_type": "code",
   "execution_count": 28,
   "metadata": {},
   "outputs": [
    {
     "name": "stdout",
     "output_type": "stream",
     "text": [
      "It worked!\n",
      "1\n",
      "3\n",
      "2\n",
      "4\n",
      "5\n"
     ]
    }
   ],
   "source": [
    "fancy_list = FancyList(\"Iterable list\", [1, 3, 2, 4, 5])\n",
    "if 2 in fancy_list:\n",
    "    print(\"It worked!\")\n",
    "for item in fancy_list:\n",
    "    print(item)"
   ]
  },
  {
   "cell_type": "markdown",
   "metadata": {},
   "source": [
    "Another thing lists can do is concatenation using `+`. This, once again, is available using the dunder method `__add__()`. We can even use it to make our fancy list concatenable with plain Python lists!"
   ]
  },
  {
   "cell_type": "code",
   "execution_count": 29,
   "metadata": {},
   "outputs": [],
   "source": [
    "from typing import Self\n",
    "\n",
    "class FancyList:\n",
    "    \"\"\"A simple list with a name.\"\"\"\n",
    "    def __init__(self, name: str, contents: list) -> None:\n",
    "        self.__name = name\n",
    "        self.__contents = contents\n",
    "\n",
    "    @property\n",
    "    def name(self) -> str:\n",
    "        return self.__name\n",
    "\n",
    "    @property\n",
    "    def contents(self) -> list:\n",
    "        return self.__contents\n",
    "    \n",
    "    @contents.setter\n",
    "    def contents(self, contents: list) -> None:\n",
    "        self.__contents = contents    \n",
    "\n",
    "    def append(self, added) -> None:\n",
    "        self.contents.append(added)\n",
    "\n",
    "    def sort(self, *args, **kwargs):\n",
    "        self.contents.sort(*args, **kwargs)\n",
    "\n",
    "    def __len__(self) -> int:\n",
    "        return len(self.contents)\n",
    "    \n",
    "    def __getitem__(self, key):\n",
    "        return self.contents[key]\n",
    "    \n",
    "    def __setitem__(self, key, value) -> None:\n",
    "        self.contents[key] = value\n",
    "\n",
    "    def __contains__(self, item) -> bool:\n",
    "        return item in self.contents\n",
    "    \n",
    "    def __iter__(self):\n",
    "        return iter(self.contents)\n",
    "    \n",
    "    def __add__(self, other) -> Self:\n",
    "        if isinstance(other, FancyList):\n",
    "            return FancyList(f\"{self.name} and {other.name}\", self.contents + other.contents)\n",
    "        elif isinstance(other, list):\n",
    "            return FancyList(f\"{self.name} and unnamed\", self.contents + other)\n",
    "        else:\n",
    "            raise TypeError(\"Cannot concatenate anything other than a list or fancy list to a fancy list\")"
   ]
  },
  {
   "cell_type": "code",
   "execution_count": 30,
   "metadata": {},
   "outputs": [
    {
     "name": "stdout",
     "output_type": "stream",
     "text": [
      "<__main__.FancyList object at 0x000001D295720CD0>\n",
      "<__main__.FancyList object at 0x000001D295721050>\n"
     ]
    },
    {
     "ename": "TypeError",
     "evalue": "can only concatenate list (not \"FancyList\") to list",
     "output_type": "error",
     "traceback": [
      "\u001b[1;31m---------------------------------------------------------------------------\u001b[0m",
      "\u001b[1;31mTypeError\u001b[0m                                 Traceback (most recent call last)",
      "Cell \u001b[1;32mIn[30], line 4\u001b[0m\n\u001b[0;32m      2\u001b[0m \u001b[38;5;28mprint\u001b[39m(fancy_list \u001b[38;5;241m+\u001b[39m FancyList(\u001b[38;5;124m\"\u001b[39m\u001b[38;5;124mOther list\u001b[39m\u001b[38;5;124m\"\u001b[39m, [\u001b[38;5;241m6\u001b[39m, \u001b[38;5;241m7\u001b[39m, \u001b[38;5;241m8\u001b[39m, \u001b[38;5;241m9\u001b[39m]))\n\u001b[0;32m      3\u001b[0m \u001b[38;5;28mprint\u001b[39m(fancy_list \u001b[38;5;241m+\u001b[39m [\u001b[38;5;241m6\u001b[39m, \u001b[38;5;241m7\u001b[39m, \u001b[38;5;241m8\u001b[39m])\n\u001b[1;32m----> 4\u001b[0m \u001b[38;5;28mprint\u001b[39m([\u001b[38;5;241m-\u001b[39m\u001b[38;5;241m2\u001b[39m, \u001b[38;5;241m-\u001b[39m\u001b[38;5;241m1\u001b[39m, \u001b[38;5;241m0\u001b[39m] \u001b[38;5;241m+\u001b[39m fancy_list)\n",
      "\u001b[1;31mTypeError\u001b[0m: can only concatenate list (not \"FancyList\") to list"
     ]
    }
   ],
   "source": [
    "fancy_list = FancyList(\"Concatenable list\", [1, 3, 2, 4, 5])\n",
    "print(fancy_list + FancyList(\"Other list\", [6, 7, 8, 9]))\n",
    "print(fancy_list + [6, 7, 8])\n",
    "print([-2, -1, 0] + fancy_list)"
   ]
  },
  {
   "cell_type": "markdown",
   "metadata": {},
   "source": [
    "Oops! We're having two problems here:\n",
    "\n",
    "1. Our fancy list doesn't look as nice as a normal list when we try to print it, and;\n",
    "2. While we can concatenate a list to a fancy list, we can't do it the other way round.\n",
    "\n",
    "To solve the first issue, we need a way to represent our fancy list as a string that works with how Python displays things. As it turns out, there are actually _two_ ways to do so: `__repr__()` and `__str__()`. The first method is the so-called \"machine-readable\" representation of the object. Basically, it should be (with emphasis on _should_) a string representation that, when copied and pasted in a Python REPL, would recreate the object as it is at the time. Of course something like that isn't always possible, but the `__repr__()` representation should strive to achieve this goal as much as possible. In the case of our fancy list, this simply means it should return a string containing the instantiation syntax of the object (even if that object was created in a different way, like concatenation). The second method, however, is the so-called \"human-readable\" representation of the object. It makes no claims as to machine usage, and is just a way to represent the object that we will find nice to read. In fact, `__str__()` is called whenever `print()` and `str()` are used on a non-`str` object. For built-in types, the two methods usually return the same thing (in fact, if you define `__repr__()` but not `__str__()`, calls to the latter will default back to the former), but for user-defined types it's not unusual for them to differ.\n",
    "\n",
    "For the second issue, we hit another brick wall: if we try to add a fancy list to a plain list, the operation will try to call the plain list's `__add__()` method, which we have no way to modify. Does that mean we're stuck? Of course not. The Python developers have thought of everything, and have provided the `__radd__()` method for that usecase. Basically, if you type `other + object` and `other` doesn't have an `__add__()` method that can handle `object`, Python will check whether `object` implements an `__radd__()` method before raising an error. In fact, the Python developers even provide the `__iadd__()` method to handle the `object += value` syntax, as it often warrants a separate implementation (at least for mutable types as this operation should be in place if possible).\n",
    "\n",
    "Knowing this, we can add more functionality to our fancy list class this way:"
   ]
  },
  {
   "cell_type": "code",
   "execution_count": 31,
   "metadata": {},
   "outputs": [],
   "source": [
    "class FancyList:\n",
    "    \"\"\"A simple list with a name.\"\"\"\n",
    "    def __init__(self, name: str, contents: list) -> None:\n",
    "        self.__name = name\n",
    "        self.__contents = contents\n",
    "\n",
    "    @property\n",
    "    def name(self) -> str:\n",
    "        return self.__name\n",
    "\n",
    "    @property\n",
    "    def contents(self) -> list:\n",
    "        return self.__contents\n",
    "    \n",
    "    @contents.setter\n",
    "    def contents(self, contents: list) -> None:\n",
    "        self.__contents = contents    \n",
    "\n",
    "    def append(self, added) -> None:\n",
    "        self.contents.append(added)\n",
    "\n",
    "    def sort(self, *args, **kwargs):\n",
    "        self.contents.sort(*args, **kwargs)\n",
    "\n",
    "    def __len__(self) -> int:\n",
    "        return len(self.contents)\n",
    "    \n",
    "    def __getitem__(self, key):\n",
    "        return self.contents[key]\n",
    "    \n",
    "    def __setitem__(self, key, value) -> None:\n",
    "        self.contents[key] = value\n",
    "\n",
    "    def __contains__(self, item) -> bool:\n",
    "        return item in self.contents\n",
    "    \n",
    "    def __iter__(self):\n",
    "        return iter(self.contents)\n",
    "    \n",
    "    def __add__(self, other) -> Self:\n",
    "        if isinstance(other, FancyList):\n",
    "            return FancyList(f\"{self.name} and {other.name}\", self.contents + other.contents)\n",
    "        elif isinstance(other, list):\n",
    "            return FancyList(f\"{self.name} and unnamed\", self.contents + other)\n",
    "        else:\n",
    "            raise TypeError(\"Cannot concatenate anything other than a list or fancy list to a fancy list\")\n",
    "        \n",
    "    def __radd__(self, other) -> Self:\n",
    "        if isinstance(other, list):\n",
    "            return FancyList(f\"unnamed and {self.name}\", other + self.contents)\n",
    "        else:\n",
    "            raise TypeError(\"Cannot concatenate anything other than a list or fancy list to a fancy list\")\n",
    "        \n",
    "    def __iadd__(self, other) -> Self:\n",
    "        if isinstance(other, FancyList):\n",
    "            self.__name = f\"{self.name} and {other.name}\"\n",
    "            self.contents += other.contents\n",
    "            return self\n",
    "        elif isinstance(other, list):\n",
    "            self.__name = f\"{self.name} and unnamed\"\n",
    "            self.contents += other\n",
    "            return self\n",
    "        else:\n",
    "            raise TypeError(\"Cannot concatenate anything other than a list or fancy list to a fancy list\")\n",
    "    \n",
    "    def __repr__(self) -> str:\n",
    "        return f\"FancyList('{self.name}', {self.contents})\"\n",
    "    \n",
    "    def __str__(self) -> str:\n",
    "        return f\"{self.name} {self.contents}\""
   ]
  },
  {
   "cell_type": "code",
   "execution_count": 32,
   "metadata": {},
   "outputs": [
    {
     "name": "stdout",
     "output_type": "stream",
     "text": [
      "Concatenable list and Other list [1, 3, 2, 4, 5, 6, 7, 8, 9]\n",
      "Concatenable list and unnamed [1, 3, 2, 4, 5, 6, 7, 8]\n",
      "unnamed and Concatenable list [-2, -1, 0, 1, 3, 2, 4, 5]\n"
     ]
    }
   ],
   "source": [
    "fancy_list = FancyList(\"Concatenable list\", [1, 3, 2, 4, 5])\n",
    "print(fancy_list + FancyList(\"Other list\", [6, 7, 8, 9]))\n",
    "print(fancy_list + [6, 7, 8])\n",
    "print([-2, -1, 0] + fancy_list)"
   ]
  },
  {
   "cell_type": "code",
   "execution_count": 33,
   "metadata": {},
   "outputs": [
    {
     "data": {
      "text/plain": [
       "FancyList('Concatenable list and Other list', [1, 3, 2, 4, 5, 6, 7, 8, 9])"
      ]
     },
     "execution_count": 33,
     "metadata": {},
     "output_type": "execute_result"
    }
   ],
   "source": [
    "fancy_list + FancyList(\"Other list\", [6, 7, 8, 9])"
   ]
  },
  {
   "cell_type": "code",
   "execution_count": 34,
   "metadata": {},
   "outputs": [
    {
     "data": {
      "text/plain": [
       "FancyList('Concatenable list and Other list', [1, 3, 2, 4, 5, 6, 7, 8])"
      ]
     },
     "execution_count": 34,
     "metadata": {},
     "output_type": "execute_result"
    }
   ],
   "source": [
    "fancy_list += FancyList(\"Other list\", [6, 7, 8])\n",
    "fancy_list"
   ]
  },
  {
   "cell_type": "markdown",
   "metadata": {},
   "source": [
    "There are many more of these dunder methods (check the link above!), but the most important thing to remember is that with them, it's possible to make your user-defined classes feel as integrated into Python as built-in classes are, and the only limitation is what you _choose_ to implement."
   ]
  },
  {
   "cell_type": "markdown",
   "metadata": {},
   "source": [
    "## What's more?\n",
    "\n",
    "With properties and dunder methods, we've only scratched the surface of what you can do with Python classes, and how to make them feel truly Pythonic in every way. There are many other things you can do, like _class attributes_ and _class methods_, _dataclasses_ which can help you create your classes faster, _inheritance_ which allows you to handle related classes in a smart way, `__call__()`, which turns your objects into functions that can be applied on other objects, not to mention that the claim \"everything is an object\" applies to classes themselves as well. Classes, as in the blueprints themselves, are objects too, and can be manipulated in Python as such. But those are more advanced topics for another time."
   ]
  },
  {
   "cell_type": "markdown",
   "metadata": {},
   "source": []
  }
 ],
 "metadata": {
  "kernelspec": {
   "display_name": "classesinpython-3nqwLReV-py3.12",
   "language": "python",
   "name": "python3"
  },
  "language_info": {
   "codemirror_mode": {
    "name": "ipython",
    "version": 3
   },
   "file_extension": ".py",
   "mimetype": "text/x-python",
   "name": "python",
   "nbconvert_exporter": "python",
   "pygments_lexer": "ipython3",
   "version": "3.11.4"
  }
 },
 "nbformat": 4,
 "nbformat_minor": 2
}
