{
 "cells": [
  {
   "cell_type": "code",
   "execution_count": 7,
   "metadata": {},
   "outputs": [
    {
     "name": "stdout",
     "output_type": "stream",
     "text": [
      "None ()\n",
      "10000\n",
      "[9.68022479999999, 9.08308679999999, 9.21465090000001]\n",
      "None\n"
     ]
    }
   ],
   "source": [
    "import timeit\n",
    "from functools import wraps\n",
    "\n",
    "\n",
    "def tool(func):\n",
    "    \"\"\"Include debug statement and timeit setup\"\"\"\n",
    "\n",
    "    @wraps(func)\n",
    "    def wrapper(*args):\n",
    "        print(func.__doc__, args)\n",
    "        res = func(*args)\n",
    "        print(res)\n",
    "        times = timeit.repeat(stmt=lambda: func(*args), repeat=3, number=10000)\n",
    "        print(times)\n",
    "\n",
    "    return wrapper\n",
    "\n",
    "\n",
    "@tool\n",
    "def fun():\n",
    "    i=0\n",
    "    for x in range(10000):\n",
    "        i+=1\n",
    "    return i\n",
    "\n",
    "print(fun())"
   ]
  }
 ],
 "metadata": {
  "kernelspec": {
   "display_name": "base",
   "language": "python",
   "name": "python3"
  },
  "language_info": {
   "codemirror_mode": {
    "name": "ipython",
    "version": 3
   },
   "file_extension": ".py",
   "mimetype": "text/x-python",
   "name": "python",
   "nbconvert_exporter": "python",
   "pygments_lexer": "ipython3",
   "version": "3.7.3"
  }
 },
 "nbformat": 4,
 "nbformat_minor": 2
}
