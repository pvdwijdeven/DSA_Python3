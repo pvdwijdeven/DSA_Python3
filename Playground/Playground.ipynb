{
 "cells": [
  {
   "cell_type": "code",
   "execution_count": 2,
   "metadata": {},
   "outputs": [
    {
     "name": "stdout",
     "output_type": "stream",
     "text": [
      "( 30 , 40 )\n",
      "( 5 , 10 )\n"
     ]
    }
   ],
   "source": [
    "def findSymPairs(arr, row):\n",
    "    hM = dict()\n",
    "    for i in range(row):\n",
    "        first = arr[i][0]\n",
    "        sec = arr[i][1]\n",
    "        if (sec in hM.keys() and hM[sec] == first):\n",
    "            print(\"(\", sec,\",\", first,\")\")\n",
    "        else:\n",
    "            hM[first] = sec\n",
    "\n",
    "arr = [[0 for i in range(2)] for i in range(5)]\n",
    "\n",
    "arr[0][0], arr[0][1] = 11,20\n",
    "arr[1][0], arr[1][1] = 30,40\n",
    "arr[2][0], arr[2][1] = 5,10\n",
    "arr[3][0], arr[3][1] = 40,30\n",
    "arr[4][0], arr[4][1] = 10, 5\n",
    "findSymPairs(arr,5)"
   ]
  }
 ],
 "metadata": {
  "kernelspec": {
   "display_name": "base",
   "language": "python",
   "name": "python3"
  },
  "language_info": {
   "codemirror_mode": {
    "name": "ipython",
    "version": 3
   },
   "file_extension": ".py",
   "mimetype": "text/x-python",
   "name": "python",
   "nbconvert_exporter": "python",
   "pygments_lexer": "ipython3",
   "version": "3.7.3"
  }
 },
 "nbformat": 4,
 "nbformat_minor": 2
}
