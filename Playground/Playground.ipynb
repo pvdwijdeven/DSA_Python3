{
 "cells": [
  {
   "cell_type": "code",
   "execution_count": 3,
   "metadata": {},
   "outputs": [
    {
     "name": "stdout",
     "output_type": "stream",
     "text": [
      "1314447116\n"
     ]
    }
   ],
   "source": [
    "class Solution:\n",
    "    #Function to return sum of count of set bits in the integers from 1 to n.\n",
    "    def countSetBits(self,n):\n",
    "        bit_set_table_256 = [0] * 256\n",
    "    \n",
    "        def initialize() -> None:\n",
    "            bit_set_table_256[0] = 0\n",
    "            for i in range(256):\n",
    "                bit_set_table_256[i] = (i & 1) + bit_set_table_256[i // 2]\n",
    "    \n",
    "        initialize()\n",
    "        res = 0\n",
    "        for i in range(1,n+1):\n",
    "            res+= (\n",
    "                bit_set_table_256[i & 0xFF]\n",
    "                + bit_set_table_256[(i >> 8) & 0xFF]\n",
    "                + bit_set_table_256[(i >> 16) & 0xFF]\n",
    "                + bit_set_table_256[i >> 24]\n",
    "        )\n",
    "        return res\n",
    "    \n",
    "s = Solution()\n",
    "print(s.countSetBits(10**8))"
   ]
  }
 ],
 "metadata": {
  "kernelspec": {
   "display_name": "base",
   "language": "python",
   "name": "python3"
  },
  "language_info": {
   "codemirror_mode": {
    "name": "ipython",
    "version": 3
   },
   "file_extension": ".py",
   "mimetype": "text/x-python",
   "name": "python",
   "nbconvert_exporter": "python",
   "pygments_lexer": "ipython3",
   "version": "3.7.3"
  }
 },
 "nbformat": 4,
 "nbformat_minor": 2
}
