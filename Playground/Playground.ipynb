{
 "cells": [
  {
   "cell_type": "code",
   "execution_count": 44,
   "metadata": {},
   "outputs": [
    {
     "data": {
      "text/plain": [
       "([3, 3, 4, 4, 4, 4, 4], [4, 4, 4, 3, 3, 3, 3], 10)"
      ]
     },
     "execution_count": 44,
     "metadata": {},
     "output_type": "execute_result"
    }
   ],
   "source": [
    "\n",
    "class Solution:\n",
    "    def trappingWater(self, arr,n):\n",
    "        left_max = [0]*n\n",
    "        left_max[0] = arr[0]\n",
    "        for i in range(1,n):\n",
    "            left_max[i] =max(left_max[i-1],arr[i])\n",
    "        right_max = [0]*n\n",
    "        right_max[n-1] = arr[n-1]\n",
    "        for i in range(n-2,-1,-1):\n",
    "            right_max[i] = max(arr[i],right_max[i+1])\n",
    "        water = 0\n",
    "        for i in range(0,n):\n",
    "            water += min(left_max[i],right_max[i])-arr[i]\n",
    "        return water\n",
    "\n",
    "\n",
    "s = Solution()\n",
    "arr = [3,0,4,0,2,0,3]\n",
    "# arr = [6,9,9]\n",
    "# arr = [7,4,0,9]\n",
    "# arr = [3,0,0,2,0,4]\n",
    "s.trappingWater(arr,len(arr))"
   ]
  }
 ],
 "metadata": {
  "kernelspec": {
   "display_name": "base",
   "language": "python",
   "name": "python3"
  },
  "language_info": {
   "codemirror_mode": {
    "name": "ipython",
    "version": 3
   },
   "file_extension": ".py",
   "mimetype": "text/x-python",
   "name": "python",
   "nbconvert_exporter": "python",
   "pygments_lexer": "ipython3",
   "version": "3.7.3"
  }
 },
 "nbformat": 4,
 "nbformat_minor": 2
}
