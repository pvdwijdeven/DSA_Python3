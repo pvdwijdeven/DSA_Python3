{
 "cells": [
  {
   "cell_type": "code",
   "execution_count": 3,
   "metadata": {},
   "outputs": [
    {
     "data": {
      "text/plain": [
       "-1"
      ]
     },
     "execution_count": 3,
     "metadata": {},
     "output_type": "execute_result"
    }
   ],
   "source": [
    "\n",
    "class Solution:\n",
    "    ##Complete this function\n",
    "    #Function to find the sum of contiguous subarray with maximum sum.\n",
    "    def maxSubArraySum(self,arr,N):\n",
    "        res = arr[0]\n",
    "        max_so_far = [arr[0]]\n",
    "        for i in range(1,N):\n",
    "            max_so_far.append(max(arr[i],arr[i]+max_so_far[i-1]))\n",
    "            res = max(res,max_so_far[i])\n",
    "        return res\n",
    "\n",
    "\n",
    "s = Solution()\n",
    "# arr = [1,2,3,-2,5]\n",
    "arr = [-1,-2,-3,-4]\n",
    "s.maxSubArraySum(arr,len(arr))"
   ]
  }
 ],
 "metadata": {
  "kernelspec": {
   "display_name": "base",
   "language": "python",
   "name": "python3"
  },
  "language_info": {
   "codemirror_mode": {
    "name": "ipython",
    "version": 3
   },
   "file_extension": ".py",
   "mimetype": "text/x-python",
   "name": "python",
   "nbconvert_exporter": "python",
   "pygments_lexer": "ipython3",
   "version": "3.7.3"
  }
 },
 "nbformat": 4,
 "nbformat_minor": 2
}
