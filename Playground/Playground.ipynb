{
 "cells": [
  {
   "cell_type": "code",
   "execution_count": 53,
   "metadata": {},
   "outputs": [
    {
     "name": "stdout",
     "output_type": "stream",
     "text": [
      "0\n",
      "1 1 0 0b100\n",
      "1 1 0 0b100\n",
      "4\n",
      "0 1 1 0b1000\n",
      "1 0 1 0b1100\n",
      "0 1 1 0b1110\n",
      "15\n"
     ]
    }
   ],
   "source": [
    "\n",
    "\n",
    "def get_grey(n)-> int:\n",
    "    from math import log\n",
    "    if n==0:\n",
    "        return 0\n",
    "    k = int(log(n, 2))\n",
    "    grey = 1<<k\n",
    "    prev = 1\n",
    "    for i in range(k-1,-1,-1):\n",
    "        cur = (n & 1<<i)>>i\n",
    "        grey += (1<<i) * (prev ^ cur)\n",
    "        prev = cur\n",
    "    return grey\n",
    "\n",
    "print(get_grey(0))\n",
    "print(get_grey(7))\n",
    "print(get_grey(10))"
   ]
  }
 ],
 "metadata": {
  "kernelspec": {
   "display_name": "base",
   "language": "python",
   "name": "python3"
  },
  "language_info": {
   "codemirror_mode": {
    "name": "ipython",
    "version": 3
   },
   "file_extension": ".py",
   "mimetype": "text/x-python",
   "name": "python",
   "nbconvert_exporter": "python",
   "pygments_lexer": "ipython3",
   "version": "3.7.3"
  }
 },
 "nbformat": 4,
 "nbformat_minor": 2
}
