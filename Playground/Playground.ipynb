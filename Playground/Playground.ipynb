{
 "cells": [
  {
   "cell_type": "code",
   "execution_count": 3,
   "metadata": {},
   "outputs": [
    {
     "name": "stdout",
     "output_type": "stream",
     "text": [
      "3\n",
      "4\n"
     ]
    }
   ],
   "source": [
    "class Solution:\n",
    "    ##Complete this function\n",
    "    # Function to calculate the longest consecutive ones\n",
    "    def maxConsecutiveOnes(self, N):\n",
    "        ##Your code here\n",
    "        max_cons_bits=0\n",
    "        set_bits = 0\n",
    "        while N:\n",
    "            if N&1:\n",
    "                set_bits += 1\n",
    "            else:\n",
    "                set_bits = 0\n",
    "            if set_bits > max_cons_bits:\n",
    "                max_cons_bits = set_bits\n",
    "            N = N >> 1\n",
    "        return max_cons_bits\n",
    "    \n",
    "s = Solution()\n",
    "print(s.maxConsecutiveOnes(N=14))\n",
    "print(s.maxConsecutiveOnes(N=222))"
   ]
  }
 ],
 "metadata": {
  "kernelspec": {
   "display_name": "base",
   "language": "python",
   "name": "python3"
  },
  "language_info": {
   "codemirror_mode": {
    "name": "ipython",
    "version": 3
   },
   "file_extension": ".py",
   "mimetype": "text/x-python",
   "name": "python",
   "nbconvert_exporter": "python",
   "pygments_lexer": "ipython3",
   "version": "3.7.3"
  }
 },
 "nbformat": 4,
 "nbformat_minor": 2
}
